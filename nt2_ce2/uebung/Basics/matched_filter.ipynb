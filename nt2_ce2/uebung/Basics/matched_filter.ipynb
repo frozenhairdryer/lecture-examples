{
 "cells": [
  {
   "cell_type": "markdown",
   "metadata": {},
   "source": [
    "# Simulation eines Matched-Filter Empfängers\n",
    "\n",
    "Systemmodell: BPSK Quelle -> RRC Pulsformung -> AWGN Kanal -> Matched Filter -> Abtastung\n"
   ]
  },
  {
   "cell_type": "markdown",
   "metadata": {},
   "source": [
    "## Generierung der BPSK Symbole und Upsampling"
   ]
  },
  {
   "cell_type": "code",
   "execution_count": 14,
   "metadata": {
    "scrolled": true
   },
   "outputs": [],
   "source": [
    "%matplotlib qt\n",
    "\n",
    "import random\n",
    "import numpy as np\n",
    "import matplotlib.pyplot as plt\n",
    "\n",
    "import rrc\n",
    "\n",
    "N = 1024*16  # number of symbols\n",
    "\n",
    "\n",
    "M = 64       # samples per symbol (oversampling factor)\n",
    "K = 32       # length of impulse response in symbols\n",
    "\n",
    "rolloff = 1e-3 # RRC Rolloff factor\n",
    "\n",
    "SNR = 15   # SNR in dB\n"
   ]
  },
  {
   "cell_type": "markdown",
   "metadata": {},
   "source": [
    "## Generierung des RRC Pulses"
   ]
  },
  {
   "cell_type": "code",
   "execution_count": 39,
   "metadata": {},
   "outputs": [
    {
     "name": "stderr",
     "output_type": "stream",
     "text": [
      "/home/wunsch/miniconda3/envs/jupylab/lib/python3.5/site-packages/ipykernel/__main__.py:20: VisibleDeprecationWarning: using a non-integer number instead of an integer will result in an error in the future\n"
     ]
    }
   ],
   "source": [
    "from matplotlib import rc\n",
    "import matplotlib\n",
    "rc('font',**{'family':'sans-serif','sans-serif':['Helvetica']})\n",
    "## for Palatino and other serif fonts use:\n",
    "#rc('font',**{'family':'serif','serif':['Palatino']})\n",
    "rc('text', usetex=True)\n",
    "matplotlib.rcParams.update({'font.size': 22})\n",
    "\n",
    "\n",
    "N_rrc = M*K+1\n",
    "group_delay = int((N_rrc-1)/2)\n",
    "g = rrc.get_rrc_ir(N_rrc, M, 1, rolloff)\n",
    "#g /= np.sqrt(np.sum(g**2))\n",
    "\n",
    "plt.subplots(2)\n",
    "plt.subplot(121)\n",
    "Kplot = min(K//2, 4)\n",
    "plt.plot(np.arange(-Kplot, Kplot, 1/M), g[len(g)//2-Kplot*M: len(g)//2+Kplot*M], label='Sincpuls', linewidth=2);\n",
    "rect = np.zeros(M*K)\n",
    "rect[M*K/2-M/2: M*K/2+M/2] = 1\n",
    "plt.plot(np.linspace(-K/2, K/2, M*K), rect, label='Rechteckpuls', linewidth=2)\n",
    "plt.xlabel('$t/T$')\n",
    "plt.legend()\n",
    "plt.xlim(-Kplot, Kplot)\n",
    "plt.title(\"$g(t)$\", fontsize=26); plt.grid()\n",
    "\n",
    "plt.subplot(122)\n",
    "f = np.linspace(-M/2, M/2, len(g))\n",
    "G = np.abs(np.fft.fftshift(np.fft.fft(g))**2/len(g))\n",
    "plt.semilogy(f, G, label='Sincpuls', linewidth=2)\n",
    "f = np.linspace(-M/2, M/2, len(rect))\n",
    "Rect = np.abs(np.fft.fftshift(np.fft.fft(rect))**2/len(rect))\n",
    "plt.semilogy(f, Rect, label='Rechteckpuls', linewidth=2)\n",
    "plt.title('$|G(f)|^2$', fontsize=26)\n",
    "plt.xlabel('$f/B$')\n",
    "plt.xlim(-4, 4)\n",
    "plt.legend()\n",
    "plt.grid()\n",
    "plt.ylim(1e-3, 10)\n",
    "plt.show()\n"
   ]
  },
  {
   "cell_type": "code",
   "execution_count": 5,
   "metadata": {},
   "outputs": [
    {
     "data": {
      "text/plain": [
       "[]"
      ]
     },
     "execution_count": 5,
     "metadata": {},
     "output_type": "execute_result"
    }
   ],
   "source": [
    "N_rrc = M*K+1\n",
    "group_delay = int((N_rrc-1)/2)\n",
    "g = rrc.get_rrc_ir(N_rrc, M, 1, rolloff)\n",
    "g /= np.sqrt(np.sum(g**2))\n",
    "\n",
    "Kplot = min(K//2, 4)\n",
    "plt.plot(np.arange(-Kplot, Kplot, 1/M), g[len(g)//2-Kplot*M: len(g)//2+Kplot*M]); \n",
    "plt.xlabel('t/T')\n",
    "plt.title(\"h(t) RRC pulse\"); plt.grid(); plt.plot()"
   ]
  },
  {
   "cell_type": "markdown",
   "metadata": {},
   "source": [
    "## Generierung des RC Pulses durch Faltung"
   ]
  },
  {
   "cell_type": "code",
   "execution_count": null,
   "metadata": {},
   "outputs": [],
   "source": [
    "gh = np.convolve(g, g, mode='full')\n",
    "\n",
    "plt.plot(np.arange(-Kplot, Kplot, 1/M), gh[len(gh)//2-Kplot*M: len(gh)//2+Kplot*M]); \n",
    "plt.title(\"g(t)*h(t) RC pulse\"); plt.xlabel('T'); plt.grid(); plt.plot()"
   ]
  },
  {
   "cell_type": "markdown",
   "metadata": {},
   "source": [
    "## Faltung der Sendesymbole mit dem Pulsformungsfilter"
   ]
  },
  {
   "cell_type": "code",
   "execution_count": null,
   "metadata": {},
   "outputs": [],
   "source": [
    "st = np.convolve(sym_up, g, mode='full')\n",
    "\n",
    "plt.plot(np.arange(1024+group_delay, 2048+group_delay), st[1024+group_delay:2048+group_delay]); \n",
    "plt.title(\"s(t)\"); plt.grid(); plt.show()"
   ]
  },
  {
   "cell_type": "markdown",
   "metadata": {},
   "source": [
    "## AWGN-Kanal"
   ]
  },
  {
   "cell_type": "code",
   "execution_count": null,
   "metadata": {},
   "outputs": [],
   "source": [
    "sigma2 = 10**(SNR/10)\n",
    "nt = 1/(np.sqrt(sigma2))*np.random.randn(len(st))\n",
    "snt = st + nt\n",
    "\n",
    "plt.plot(np.arange(1024+group_delay, 2048+group_delay), snt[1024+group_delay:2048+group_delay]); \n",
    "plt.title(\"s(t)+n(t)\"); plt.grid(); plt.show()"
   ]
  },
  {
   "cell_type": "markdown",
   "metadata": {},
   "source": [
    "## Faltung mit Matched Filter am Empfänger"
   ]
  },
  {
   "cell_type": "code",
   "execution_count": null,
   "metadata": {},
   "outputs": [],
   "source": [
    "rt = np.convolve(snt, g, mode='full')\n",
    "\n",
    "plt.plot(np.arange(1024+2*group_delay, 2048+2*group_delay), rt[1024+2*group_delay:2048+2*group_delay]); \n",
    "plt.title(\"r(t) after matched filtering\"); plt.grid(); plt.show()"
   ]
  },
  {
   "cell_type": "markdown",
   "metadata": {},
   "source": [
    "## Abtastung, Rekonstruktion der gesendeten Symbole"
   ]
  },
  {
   "cell_type": "code",
   "execution_count": null,
   "metadata": {},
   "outputs": [],
   "source": [
    "r = rt[2*group_delay:-2*group_delay:M]\n",
    "\n",
    "plt.stem(r[:20]); \n",
    "plt.title(\"RX symbols after sampling\"); plt.show()"
   ]
  },
  {
   "cell_type": "markdown",
   "metadata": {},
   "source": [
    "# Symbolfehlerrate"
   ]
  },
  {
   "cell_type": "code",
   "execution_count": null,
   "metadata": {},
   "outputs": [],
   "source": [
    "sym_est = [1 if i > 0 else -1 for i in r[:N]]\n",
    "SER = np.mean([tx!=rx for tx, rx in zip(sym, sym_est)])\n",
    "print(\"Symbol error rate: \"+str(SER))"
   ]
  }
 ],
 "metadata": {
  "kernelspec": {
   "display_name": "Python 3",
   "language": "python",
   "name": "python3"
  },
  "language_info": {
   "codemirror_mode": {
    "name": "ipython",
    "version": 3
   },
   "file_extension": ".py",
   "mimetype": "text/x-python",
   "name": "python",
   "nbconvert_exporter": "python",
   "pygments_lexer": "ipython3",
   "version": "3.7.5"
  }
 },
 "nbformat": 4,
 "nbformat_minor": 1
}
