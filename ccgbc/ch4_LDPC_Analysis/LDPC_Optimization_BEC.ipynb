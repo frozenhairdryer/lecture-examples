{
 "cells": [
  {
   "cell_type": "markdown",
   "metadata": {},
   "source": [
    "# Optimization of Degree Distributions on the BEC\n",
    "\n",
    "This code is provided as supplementary material of the lecture Channel Coding 2 - Advanced Methods.\n",
    "\n",
    "This code illustrates\n",
    "* Using linear programming to optimize degree distributions on the BEC"
   ]
  },
  {
   "cell_type": "code",
   "execution_count": 12,
   "metadata": {},
   "outputs": [],
   "source": [
    "import cvxpy as cp\n",
    "import numpy as np\n",
    "import matplotlib\n",
    "import matplotlib.pyplot as plot\n",
    "from ipywidgets import interactive\n",
    "import ipywidgets as widgets\n",
    "import math\n",
    "\n",
    "import shutil\n",
    "\n",
    "font = {'size'   : 14}\n",
    "plot.rc('font', **font)\n",
    "plot.rc('text', usetex=True if shutil.which('latex') else False)\n",
    "\n",
    "matplotlib.rc('figure', figsize=(7, 4) )\n",
    "\n",
    "%matplotlib inline  "
   ]
  },
  {
   "cell_type": "markdown",
   "metadata": {},
   "source": [
    "We specify the check node degree distribution polynomial $\\rho(Z)$ by fixing the average check node degree $d_{\\mathtt{c},\\text{avg}}$ and assuming that the code contains only check nodes with degrees $\\tilde{d}_{\\mathtt{c}} := \\lfloor d_{\\mathtt{c},\\text{avg}}\\rfloor$ and $\\tilde{d}_{\\mathtt{c}}+1$. This is the so-called check-concentrated degree distribution. As shown in the lecture, we have:\n",
    "$$\n",
    "\\rho(Z) = \\frac{\\tilde{d}_{\\mathtt{c}}(\\tilde{d}_{\\mathtt{c}}+1-d_{\\mathtt{c},\\text{avg}})}{d_{\\mathtt{c},\\text{avg}}}Z^{\\tilde{d}_{\\mathtt{c}}-1} + \\frac{d_{\\mathtt{c},\\text{avg}}-\\tilde{d}_{\\mathtt{c}}(\\tilde{d}_{\\mathtt{c}}+1-d_{\\mathtt{c},\\text{avg}})}{d_{\\mathtt{c},\\text{avg}}}Z^{\\tilde{d}_{\\mathtt{c}}}\n",
    "$$\n",
    "The following function converts $d_{\\mathtt{c},\\text{avg}}$ into a polynomial $\\rho(Z)$ which is given as an array where the first entry corresponds to the largest exponents and the last entry corresponds to the constant part."
   ]
  },
  {
   "cell_type": "code",
   "execution_count": 3,
   "metadata": {},
   "outputs": [],
   "source": [
    "# returns rho polynomial (highest exponents first) corresponding to average check node degree c_avg\n",
    "def c_avg_to_rho(c_avg):\n",
    "    ct = math.floor(c_avg)\n",
    "    r1 = ct*(ct+1-c_avg)/c_avg\n",
    "    r2 = (c_avg - ct*(ct+1-c_avg))/c_avg\n",
    "    rho_poly = np.concatenate(([r2,r1], np.zeros(ct-1))) \n",
    "    return rho_poly"
   ]
  },
  {
   "cell_type": "markdown",
   "metadata": {},
   "source": [
    "The following function solves the optimization problem that returns the best $\\lambda(Z)$ for a given BEC erasure probability $\\epsilon$, for an average check node degree $d_{\\mathtt{c},\\text{avg}}$, and for a maximum variable node degree $d_{\\mathtt{v},\\max}$. This optimization problem is derived in the lecture as\n",
    "$$\n",
    "\\begin{aligned}\n",
    "& \\underset{\\lambda_1,\\ldots,\\lambda_{d_{\\mathtt{v},\\max}}}{\\text{maximize}} & & \\sum_{i=1}^{d_{\\mathtt{v},\\max}}\\frac{\\lambda_i}{i} \\\\\n",
    "& \\text{subject to} & & \\lambda_1 = 0 \\\\\n",
    "& & & \\lambda_i \\geq 0, \\quad \\forall i \\in\\{2,3,\\ldots,d_{\\mathtt{v},\\max}\\} \\\\\n",
    "& & & \\sum_{i=2}^{d_{\\mathtt{v},\\max}}\\lambda_i = 1 \\\\\n",
    "& & & \\sum_{i=2}^{d_{\\mathtt{v},\\max}}\\lambda_i\\cdot \\epsilon(1-\\rho(1-\\tilde{\\xi}_j))^{i-1}-\\tilde{\\xi}_j \\leq 0,\\quad  \\forall j \\in \\{1,\\ldots, D\\} \\\\\n",
    "& & & \\lambda_2 \\leq \\frac{1}{\\epsilon\\rho^\\prime(1)} = \\frac{1}{\\epsilon\\sum_{i=2}^{d_{\\mathtt{c},\\max}}(i-1)\\rho_i}\n",
    "\\end{aligned}\n",
    "$$\n",
    "\n",
    "If this optimization problem is feasible, then the function returns the polynomial $\\lambda(Z)$ as a coefficient array where the first entry corresponds to the largest exponent ($\\lambda_{d_{\\mathtt{v},\\max}}$) and the last entry to the lowest exponent ($\\lambda_1$). If the optimization problem has no solution (e.g., it is unfeasible), then the empty vector is returned."
   ]
  },
  {
   "cell_type": "code",
   "execution_count": 4,
   "metadata": {},
   "outputs": [],
   "source": [
    "def find_best_lambda(epsilon, v_max, c_avg):\n",
    "    rho = c_avg_to_rho(c_avg)\n",
    "    # quantization of fixed-point condition\n",
    "    D = 500\n",
    "    xi_range = np.arange(1.0, D+1, 1)/D                    \n",
    "    \n",
    "    # Variable to optimize is lambda with v_max entries\n",
    "    v_lambda = cp.Variable(shape=v_max)   \n",
    "    \n",
    "        \n",
    "    # objective function\n",
    "    cv = 1/np.arange(v_max,0,-1)    \n",
    "    objective = cp.Maximize(v_lambda @ cv)\n",
    "    \n",
    "    \n",
    "    # constraints    \n",
    "    # constraint 1, v_lambda are fractions between 0 and 1 and sum up to 1\n",
    "    constraints = [cp.sum(v_lambda) == 1, v_lambda >= 0]\n",
    "    \n",
    "    # constraint 2, no variable nodes of degree 1\n",
    "    constraints += [v_lambda[v_max-1] == 0]\n",
    "               \n",
    "    # constraints 3, fixed point condition for all the descrete xi values  (a total number of D, for each \\xi)  \n",
    "    for xi in xi_range:\n",
    "        constraints += [v_lambda @ [epsilon * (1-np.polyval(rho,1.0-xi))**(v_max-1-j) for j in range(v_max)] - xi <= 0]\n",
    "    \n",
    "    # constraint 4, stability condition\n",
    "    constraints += [v_lambda[v_max-2] <= 1/epsilon/np.polyval(np.polyder(rho),1.0)]\n",
    "    \n",
    "    # set up the problem and solve\n",
    "    problem = cp.Problem(objective, constraints)\n",
    "    problem.solve()\n",
    "        \n",
    "    if problem.status == \"optimal\":\n",
    "        r_lambda = v_lambda.value\n",
    "        # remove entries close to zero and renormalize\n",
    "        r_lambda[r_lambda <= 1e-7] = 0\n",
    "        r_lambda = r_lambda / sum(r_lambda)\n",
    "    else:\n",
    "        r_lambda = np.array([])\n",
    "    \n",
    "    return r_lambda"
   ]
  },
  {
   "cell_type": "markdown",
   "metadata": {},
   "source": [
    "As an example, we consider the case of optimization carried out in the lecture after 9 iterations, where we have $\\epsilon = 0.2949219$ and $d_{\\mathtt{c},\\text{avg}} = 12.98$ with $d_{\\mathtt{v},\\max}=16$"
   ]
  },
  {
   "cell_type": "code",
   "execution_count": 5,
   "metadata": {},
   "outputs": [
    {
     "name": "stdout",
     "output_type": "stream",
     "text": [
      "        15           5          4          2\n",
      "0.3391 Z  + 0.03524 Z + 0.2009 Z + 0.1423 Z + 0.2824 Z\n"
     ]
    }
   ],
   "source": [
    "best_lambda = find_best_lambda(0.2949219, 16, 12.98)\n",
    "print(np.poly1d(best_lambda, variable='Z'))"
   ]
  },
  {
   "cell_type": "markdown",
   "metadata": {},
   "source": [
    "In the following, we provide an interactive widget that allows you to choose the parameters of the optimization yourself and get the best possible $\\lambda(Z)$. Additionally, the EXIT chart is plotted to visualize the good fit of the obtained degree distribution."
   ]
  },
  {
   "cell_type": "code",
   "execution_count": 13,
   "metadata": {},
   "outputs": [
    {
     "data": {
      "application/vnd.jupyter.widget-view+json": {
       "model_id": "219c9fe0c79f457c9680c87470b37b6d",
       "version_major": 2,
       "version_minor": 0
      },
      "text/plain": [
       "interactive(children=(FloatSlider(value=0.5, continuous_update=False, description='\\\\(\\\\epsilon\\\\)', layout=La…"
      ]
     },
     "execution_count": 13,
     "metadata": {},
     "output_type": "execute_result"
    }
   ],
   "source": [
    "def best_lambda_interactive(epsilon, c_avg, v_max):\n",
    "    # get lambda and rho polynomial from optimization and from c_avg, respectively\n",
    "    p_lambda = find_best_lambda(epsilon, v_max, c_avg)\n",
    "    p_rho = c_avg_to_rho(c_avg)    \n",
    "    \n",
    "    # if optimization successful, compute rate and show plot        \n",
    "    if p_lambda.size == 0:\n",
    "        print('Optimization infeasible, no solution found')\n",
    "    else:        \n",
    "        design_rate = 1 - np.polyval(np.polyint(p_rho),1)/np.polyval(np.polyint(p_lambda),1)\n",
    "        if design_rate <= 0:\n",
    "            print('Optimization feasible, but no code with positive rate found')\n",
    "        else:\n",
    "            print(\"Lambda polynomial:\")\n",
    "            print(np.poly1d(p_lambda, variable='Z'))\n",
    "            print(\"Design rate r_d = %1.3f\" % design_rate)\n",
    "            \n",
    "            # Plot EXIT-Chart\n",
    "            print(\"EXIT Chart:\")\n",
    "            plot.figure(3)    \n",
    "            x = np.linspace(0, 1, num=100)\n",
    "            y_v = [1 - epsilon*np.polyval(p_lambda, 1-xv) for xv in x]\n",
    "            y_c = [np.polyval(p_rho,xv) for xv in x]\n",
    "            plot.plot(x, y_v, '#7030A0')\n",
    "            plot.plot(y_c, x, '#008000')            \n",
    "            plot.axis('equal')\n",
    "            plot.gca().set_aspect('equal', adjustable='box')\n",
    "            plot.xlim(0,1)\n",
    "            plot.ylim(0,1)     \n",
    "            plot.xlabel(r'$I^{[A,V]}$, $I^{[E,C]}$')\n",
    "            plot.ylabel(r'$I^{[E,V]}$, $I^{[A,C]}$')\n",
    "            plot.grid()\n",
    "            plot.show()\n",
    "\n",
    "interactive_plot = interactive(best_lambda_interactive, \\\n",
    "                               epsilon=widgets.FloatSlider(min=0.01,max=1,step=0.001,value=0.5, continuous_update=False, description=r'\\(\\epsilon\\)',layout=widgets.Layout(width='50%')), \\\n",
    "                               c_avg = widgets.FloatSlider(min=3,max=20,step=0.1,value=4, continuous_update=False, description=r'\\(d_{\\mathtt{c},\\text{avg}}\\)'), \\\n",
    "                               v_max = widgets.IntSlider(min=3, max=20, step=1, value=16, continuous_update=False, description=r'\\(d_{\\mathtt{v},\\max}\\)'))\n",
    "output = interactive_plot.children[-1]\n",
    "output.layout.height = '600px'\n",
    "interactive_plot"
   ]
  },
  {
   "cell_type": "markdown",
   "metadata": {},
   "source": [
    "Now, we carry out the optimization over a wide range of $d_{\\mathtt{c},\\text{avg}}$ values for a given $\\epsilon$ and find the largest possible rate."
   ]
  },
  {
   "cell_type": "code",
   "execution_count": 14,
   "metadata": {},
   "outputs": [
    {
     "data": {
      "application/vnd.jupyter.widget-view+json": {
       "model_id": "11f8aefe32504e669593d2207e00387f",
       "version_major": 2,
       "version_minor": 0
      },
      "text/plain": [
       "interactive(children=(FloatSlider(value=0.5, continuous_update=False, description='\\\\(\\\\epsilon\\\\)', layout=La…"
      ]
     },
     "execution_count": 14,
     "metadata": {},
     "output_type": "execute_result"
    }
   ],
   "source": [
    "def find_best_rate(epsilon, v_max, c_max):\n",
    "    c_range = np.linspace(3, c_max, num=100)\n",
    "    rates = np.zeros_like(c_range)\n",
    "    \n",
    "    \n",
    "    # loop over all c_avg, add progress bar\n",
    "    f = widgets.FloatProgress(min=0, max=np.size(c_range))\n",
    "    display(f)\n",
    "    for index,c_avg in enumerate(c_range):\n",
    "        f.value += 1\n",
    "        p_lambda = find_best_lambda(epsilon, v_max, c_avg)        \n",
    "        p_rho = c_avg_to_rho(c_avg)         \n",
    "        if np.array(p_lambda).size > 0:\n",
    "            design_rate = 1 - np.polyval(np.polyint(p_rho),1)/np.polyval(np.polyint(p_lambda),1)\n",
    "            if design_rate >= 0:\n",
    "                rates[index] = design_rate\n",
    "    \n",
    "    # find largest rate\n",
    "    largest_rate_index = np.argmax(rates)\n",
    "    best_lambda = find_best_lambda(epsilon, v_max, c_range[largest_rate_index])\n",
    "    print(\"Found best code of rate %1.3f for average check node degree of %1.2f\" % (rates[largest_rate_index], c_range[largest_rate_index]))\n",
    "    print(\"Corresponding lambda polynomial\")\n",
    "    print(np.poly1d(best_lambda, variable='Z'))\n",
    "    \n",
    "    # Plot curve with all obtained results\n",
    "    plot.figure(4, figsize=(10,3))    \n",
    "    plot.plot(c_range, rates, 'b')\n",
    "    plot.plot(c_range[largest_rate_index], rates[largest_rate_index], 'bs')\n",
    "    plot.xlim(3, c_max)\n",
    "    plot.ylim(0, (1.1*(1-epsilon)))\n",
    "    plot.xlabel('$d_{c,avg}$')\n",
    "    plot.ylabel('design rate $r_d$')\n",
    "    plot.grid()\n",
    "    plot.show()\n",
    "    return rates[largest_rate_index]\n",
    "\n",
    "interactive_optim = interactive(find_best_rate, \\\n",
    "                               epsilon=widgets.FloatSlider(min=0.01,max=1,step=0.001,value=0.5, continuous_update=False, description=r'\\(\\epsilon\\)',layout=widgets.Layout(width='50%')), \\\n",
    "                               v_max = widgets.IntSlider(min=3, max=20, step=1, value=16, continuous_update=False, description=r'\\(d_{\\mathtt{v},\\max}\\)'), \\\n",
    "                               c_max = widgets.IntSlider(min=3, max=40, step=1, value=22, continuous_update=False, description=r'\\(d_{\\mathtt{c},\\max}\\)'))\n",
    "output = interactive_optim.children[-1]\n",
    "output.layout.height = '400px'\n",
    "interactive_optim"
   ]
  },
  {
   "cell_type": "markdown",
   "metadata": {},
   "source": [
    "Run binary search to find best irregular code for a given target rate on the BEC."
   ]
  },
  {
   "cell_type": "code",
   "execution_count": 49,
   "metadata": {},
   "outputs": [
    {
     "name": "stdout",
     "output_type": "stream",
     "text": [
      "Running optimization for epsilon = 0.50000\n"
     ]
    },
    {
     "data": {
      "application/vnd.jupyter.widget-view+json": {
       "model_id": "e1715eeb4dbf488199d872505b4ffde3",
       "version_major": 2,
       "version_minor": 0
      },
      "text/plain": [
       "FloatProgress(value=0.0)"
      ]
     },
     "metadata": {},
     "output_type": "display_data"
    },
    {
     "name": "stdout",
     "output_type": "stream",
     "text": [
      "Found best code of rate 0.493 for average check node degree of 7.22\n",
      "Corresponding lambda polynomial\n",
      "        15           5          4          2\n",
      "0.3057 Z  + 0.01741 Z + 0.2105 Z + 0.1467 Z + 0.3197 Z\n"
     ]
    },
    {
     "data": {
      "image/png": "[encoded data removed]",
      "text/plain": [
       "<Figure size 720x216 with 1 Axes>"
      ]
     },
     "metadata": {
      "needs_background": "light"
     },
     "output_type": "display_data"
    },
    {
     "name": "stdout",
     "output_type": "stream",
     "text": [
      "Running optimization for epsilon = 0.25000\n"
     ]
    },
    {
     "data": {
      "application/vnd.jupyter.widget-view+json": {
       "model_id": "35db2b595ec94c9a97cf770a8439b99d",
       "version_major": 2,
       "version_minor": 0
      },
      "text/plain": [
       "FloatProgress(value=0.0)"
      ]
     },
     "metadata": {},
     "output_type": "display_data"
    },
    {
     "name": "stdout",
     "output_type": "stream",
     "text": [
      "Found best code of rate 0.744 for average check node degree of 15.47\n",
      "Corresponding lambda polynomial\n",
      "        15           5         4          2\n",
      "0.3437 Z  + 0.04071 Z + 0.199 Z + 0.1411 Z + 0.2755 Z\n"
     ]
    },
    {
     "data": {
      "image/png": "[encoded data removed]",
      "text/plain": [
       "<Figure size 720x216 with 1 Axes>"
      ]
     },
     "metadata": {
      "needs_background": "light"
     },
     "output_type": "display_data"
    },
    {
     "name": "stdout",
     "output_type": "stream",
     "text": [
      "Running optimization for epsilon = 0.37500\n"
     ]
    },
    {
     "data": {
      "application/vnd.jupyter.widget-view+json": {
       "model_id": "f24157cd0ddb47d8ac3a03b293340416",
       "version_major": 2,
       "version_minor": 0
      },
      "text/plain": [
       "FloatProgress(value=0.0)"
      ]
     },
     "metadata": {},
     "output_type": "display_data"
    },
    {
     "name": "stdout",
     "output_type": "stream",
     "text": [
      "Found best code of rate 0.618 for average check node degree of 9.91\n",
      "Corresponding lambda polynomial\n",
      "        15           5          4          2\n",
      "0.3121 Z  + 0.06687 Z + 0.1734 Z + 0.1497 Z + 0.298 Z\n"
     ]
    },
    {
     "data": {
      "image/png": "[encoded data removed]",
      "text/plain": [
       "<Figure size 720x216 with 1 Axes>"
      ]
     },
     "metadata": {
      "needs_background": "light"
     },
     "output_type": "display_data"
    },
    {
     "name": "stdout",
     "output_type": "stream",
     "text": [
      "Running optimization for epsilon = 0.31250\n"
     ]
    },
    {
     "data": {
      "application/vnd.jupyter.widget-view+json": {
       "model_id": "06929a049c334e04aadb6d03b425f8af",
       "version_major": 2,
       "version_minor": 0
      },
      "text/plain": [
       "FloatProgress(value=0.0)"
      ]
     },
     "metadata": {},
     "output_type": "display_data"
    },
    {
     "name": "stdout",
     "output_type": "stream",
     "text": [
      "Found best code of rate 0.681 for average check node degree of 12.21\n",
      "Corresponding lambda polynomial\n",
      "       15           5         4         2\n",
      "0.338 Z  + 0.03038 Z + 0.205 Z + 0.142 Z + 0.2845 Z\n"
     ]
    },
    {
     "data": {
      "image/png": "[encoded data removed]",
      "text/plain": [
       "<Figure size 720x216 with 1 Axes>"
      ]
     },
     "metadata": {
      "needs_background": "light"
     },
     "output_type": "display_data"
    },
    {
     "name": "stdout",
     "output_type": "stream",
     "text": [
      "Running optimization for epsilon = 0.28125\n"
     ]
    },
    {
     "data": {
      "application/vnd.jupyter.widget-view+json": {
       "model_id": "71c214d68984484c834acef738fc71cb",
       "version_major": 2,
       "version_minor": 0
      },
      "text/plain": [
       "FloatProgress(value=0.0)"
      ]
     },
     "metadata": {},
     "output_type": "display_data"
    },
    {
     "name": "stdout",
     "output_type": "stream",
     "text": [
      "Found best code of rate 0.713 for average check node degree of 13.75\n",
      "Corresponding lambda polynomial\n",
      "        15           5          4          2\n",
      "0.3517 Z  + 0.00982 Z + 0.2219 Z + 0.1383 Z + 0.2783 Z\n"
     ]
    },
    {
     "data": {
      "image/png": "[encoded data removed]",
      "text/plain": [
       "<Figure size 720x216 with 1 Axes>"
      ]
     },
     "metadata": {
      "needs_background": "light"
     },
     "output_type": "display_data"
    },
    {
     "name": "stdout",
     "output_type": "stream",
     "text": [
      "Running optimization for epsilon = 0.29688\n"
     ]
    },
    {
     "data": {
      "application/vnd.jupyter.widget-view+json": {
       "model_id": "a417c6331ebf432190cc8026501e2274",
       "version_major": 2,
       "version_minor": 0
      },
      "text/plain": [
       "FloatProgress(value=0.0)"
      ]
     },
     "metadata": {},
     "output_type": "display_data"
    },
    {
     "name": "stdout",
     "output_type": "stream",
     "text": [
      "Found best code of rate 0.697 for average check node degree of 12.98\n",
      "Corresponding lambda polynomial\n",
      "        15            5          4          2\n",
      "0.3517 Z  + 0.000839 Z + 0.2289 Z + 0.1377 Z + 0.2809 Z\n"
     ]
    },
    {
     "data": {
      "image/png": "[encoded data removed]",
      "text/plain": [
       "<Figure size 720x216 with 1 Axes>"
      ]
     },
     "metadata": {
      "needs_background": "light"
     },
     "output_type": "display_data"
    },
    {
     "name": "stdout",
     "output_type": "stream",
     "text": [
      "Running optimization for epsilon = 0.28906\n"
     ]
    },
    {
     "data": {
      "application/vnd.jupyter.widget-view+json": {
       "model_id": "65425fde01ea429e9c4f0a932d64387f",
       "version_major": 2,
       "version_minor": 0
      },
      "text/plain": [
       "FloatProgress(value=0.0)"
      ]
     },
     "metadata": {},
     "output_type": "display_data"
    },
    {
     "name": "stdout",
     "output_type": "stream",
     "text": [
      "Found best code of rate 0.705 for average check node degree of 13.36\n",
      "Corresponding lambda polynomial\n",
      "        15            5          4          2\n",
      "0.3522 Z  + 0.004647 Z + 0.2262 Z + 0.1378 Z + 0.2791 Z\n"
     ]
    },
    {
     "data": {
      "image/png": "[encoded data removed]",
      "text/plain": [
       "<Figure size 720x216 with 1 Axes>"
      ]
     },
     "metadata": {
      "needs_background": "light"
     },
     "output_type": "display_data"
    },
    {
     "name": "stdout",
     "output_type": "stream",
     "text": [
      "Running optimization for epsilon = 0.29297\n"
     ]
    },
    {
     "data": {
      "application/vnd.jupyter.widget-view+json": {
       "model_id": "3ada7b88b908430aaa855dd3cc6bbac8",
       "version_major": 2,
       "version_minor": 0
      },
      "text/plain": [
       "FloatProgress(value=0.0)"
      ]
     },
     "metadata": {},
     "output_type": "display_data"
    },
    {
     "name": "stdout",
     "output_type": "stream",
     "text": [
      "Found best code of rate 0.701 for average check node degree of 13.17\n",
      "Corresponding lambda polynomial\n",
      "        15          4          2\n",
      "0.3523 Z  + 0.2305 Z + 0.1372 Z + 0.2799 Z\n"
     ]
    },
    {
     "data": {
      "image/png": "[encoded data removed]",
      "text/plain": [
       "<Figure size 720x216 with 1 Axes>"
      ]
     },
     "metadata": {
      "needs_background": "light"
     },
     "output_type": "display_data"
    },
    {
     "name": "stdout",
     "output_type": "stream",
     "text": [
      "Running optimization for epsilon = 0.29492\n"
     ]
    },
    {
     "data": {
      "application/vnd.jupyter.widget-view+json": {
       "model_id": "e32b251b0eda474889c961da6e207ab0",
       "version_major": 2,
       "version_minor": 0
      },
      "text/plain": [
       "FloatProgress(value=0.0)"
      ]
     },
     "metadata": {},
     "output_type": "display_data"
    },
    {
     "name": "stdout",
     "output_type": "stream",
     "text": [
      "Found best code of rate 0.699 for average check node degree of 12.98\n",
      "Corresponding lambda polynomial\n",
      "        15           5          4          2\n",
      "0.3391 Z  + 0.03528 Z + 0.2009 Z + 0.1423 Z + 0.2824 Z\n"
     ]
    },
    {
     "data": {
      "image/png": "[encoded data removed]",
      "text/plain": [
       "<Figure size 720x216 with 1 Axes>"
      ]
     },
     "metadata": {
      "needs_background": "light"
     },
     "output_type": "display_data"
    }
   ],
   "source": [
    "target_rate = 0.7\n",
    "dv_max = 16\n",
    "dc_max = 22\n",
    "\n",
    "T_Delta = 0.001\n",
    "epsilon = 0.5\n",
    "Delta_epsilon = 0.5\n",
    "\n",
    "while Delta_epsilon >= T_Delta:   \n",
    "    print('Running optimization for epsilon = %1.5f' % epsilon)\n",
    "    \n",
    "    rate = find_best_rate(epsilon, dv_max, dc_max)\n",
    "    if rate > target_rate:\n",
    "        epsilon = epsilon + Delta_epsilon / 2\n",
    "    else:\n",
    "        epsilon = epsilon - Delta_epsilon / 2\n",
    "        \n",
    "    Delta_epsilon = Delta_epsilon / 2"
   ]
  },
  {
   "cell_type": "code",
   "execution_count": null,
   "metadata": {},
   "outputs": [],
   "source": []
  }
 ],
 "metadata": {
  "kernelspec": {
   "display_name": "Python 3 (ipykernel)",
   "language": "python",
   "name": "python3"
  },
  "language_info": {
   "codemirror_mode": {
    "name": "ipython",
    "version": 3
   },
   "file_extension": ".py",
   "mimetype": "text/x-python",
   "name": "python",
   "nbconvert_exporter": "python",
   "pygments_lexer": "ipython3",
   "version": "3.8.20"
  }
 },
 "nbformat": 4,
 "nbformat_minor": 4
}
