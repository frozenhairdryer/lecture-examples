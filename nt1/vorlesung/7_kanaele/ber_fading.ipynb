{
 "cells": [
  {
   "cell_type": "markdown",
   "metadata": {},
   "source": [
    "# Content and Objectives"
   ]
  },
  {
   "cell_type": "markdown",
   "metadata": {},
   "source": [
    "- Show effects of flat fading to BER\n",
    "- BPSK symbols are being transmitted with and without coding and BERs are compared"
   ]
  },
  {
   "cell_type": "markdown",
   "metadata": {},
   "source": [
    "# Importing"
   ]
  },
  {
   "cell_type": "code",
   "execution_count": 1,
   "metadata": {},
   "outputs": [],
   "source": [
    "import numpy as np\n",
    "from scipy import stats\n",
    "\n",
    "import matplotlib.pyplot as plt\n",
    "import matplotlib\n",
    "\n",
    "# showing figures inline\n",
    "%matplotlib inline"
   ]
  },
  {
   "cell_type": "code",
   "execution_count": 15,
   "metadata": {},
   "outputs": [],
   "source": [
    "# plotting options \n",
    "font = {'size'   : 20}\n",
    "plt.rc('font', **font)\n",
    "plt.rc('text', usetex=matplotlib.checkdep_usetex(True))\n",
    "\n",
    "matplotlib.rc('figure', figsize=(11, 6) )"
   ]
  },
  {
   "cell_type": "markdown",
   "metadata": {},
   "source": [
    "# Parameters"
   ]
  },
  {
   "cell_type": "code",
   "execution_count": 9,
   "metadata": {},
   "outputs": [],
   "source": [
    "# max. numbers of errors and/or symbols\n",
    "max_errors = 1e2\n",
    "max_syms = 1e5\n",
    "\n",
    "# Eb/N0\n",
    "EbN0_db_min = 0\n",
    "EbN0_db_max = 30\n",
    "EbN0_db_step = 3\n",
    "\n",
    "# initialize Eb/N0 array\n",
    "EbN0_db_range = np.arange( EbN0_db_min, EbN0_db_max, EbN0_db_step )\n",
    "EbN0_range = 10**( EbN0_db_range / 10 )\n",
    "\n",
    "# constellation points\n",
    "mod_points_bpsk = [-1, 1]     "
   ]
  },
  {
   "cell_type": "markdown",
   "metadata": {},
   "source": [
    "# Simulation"
   ]
  },
  {
   "cell_type": "code",
   "execution_count": 10,
   "metadata": {},
   "outputs": [
    {
     "name": "stdout",
     "output_type": "stream",
     "text": [
      "Eb/N0 planned (dB) = 0.0\n",
      "\n",
      "Eb/N0 planned (dB) = 3.0\n",
      "\n",
      "Eb/N0 planned (dB) = 6.0\n",
      "\n",
      "Eb/N0 planned (dB) = 9.0\n",
      "\n",
      "Eb/N0 planned (dB) = 12.0\n",
      "\n",
      "Eb/N0 planned (dB) = 15.0\n",
      "\n",
      "Eb/N0 planned (dB) = 18.0\n",
      "\n",
      "Eb/N0 planned (dB) = 21.0\n",
      "\n",
      "Eb/N0 planned (dB) = 24.0\n",
      "\n",
      "Eb/N0 planned (dB) = 27.0\n",
      "\n"
     ]
    }
   ],
   "source": [
    "# initialize BER  array \n",
    "# theoretical ber for bpsk as on slides\n",
    "ber_bpsk = np.zeros_like( EbN0_db_range, dtype=float )     \n",
    "ber_bpsk_theo = 1 - stats.norm.cdf( np.sqrt( 2 * EbN0_range ) )\n",
    "    \n",
    "# ber in fading channel    \n",
    "ber_fading = np.zeros_like( EbN0_db_range, dtype=float ) \n",
    "ber_fading_theo = 1 / ( 4 * 10**(EbN0_db_range / 10 ) )\n",
    "\n",
    "# ber when applying channel inversion\n",
    "ber_inverted = np.zeros_like( EbN0_db_range, dtype=float )  \n",
    "\n",
    "\n",
    "# loop for snr\n",
    "for ind_snr, val_snr in enumerate( EbN0_range ):\n",
    "\n",
    "    # initialize error counter\n",
    "    num_errors_bpsk = 0\n",
    "    num_errors_fading = 0\n",
    "    num_errors_inverted = 0\n",
    "    \n",
    "    num_syms = 0\n",
    "\n",
    "    # get noise variance\n",
    "    sigma2 = 1. / ( val_snr )  \n",
    "\n",
    "    # loop for errors\n",
    "    while ( num_errors_bpsk < max_errors and num_syms < max_syms ):\n",
    "\n",
    "        # generate data and modulate by look-up\n",
    "        d = np.random.randint( 0, 2)\n",
    "        s = mod_points_bpsk[ d ] \n",
    "\n",
    "        \n",
    "        ###\n",
    "        # bpsk without fading\n",
    "        ###\n",
    "        \n",
    "        # add noise\n",
    "        noise = np.sqrt( sigma2 / 2 ) * ( np.random.randn() + 1j * np.random.randn() )\n",
    "        r_bpsk = s + noise            \n",
    "        \n",
    "        # demod\n",
    "        d_est_bpsk = int( np.real( r_bpsk ) > 0 )\n",
    "\n",
    "       \n",
    "        ###\n",
    "        # bpsk with slow flat fading\n",
    "        ###\n",
    "\n",
    "        # flat fading\n",
    "        h = 1/np.sqrt(2) * ( np.random.randn() + 1j * np.random.randn() )\n",
    "        r_flat = h * s + noise\n",
    "\n",
    "        # matched filter and inverting channel\n",
    "        y_mf = np.conjugate( h / np.abs(h) )* r_flat        \n",
    "        y_inv = r_flat / h\n",
    "        \n",
    "        # demodulate symbols\n",
    "        d_est_flat = int( np.real( y_mf ) > 0 )\n",
    "        d_est_inv = int( np.real( y_inv ) > 0 )\n",
    "        \n",
    "        ###\n",
    "        # count errors\n",
    "        num_errors_bpsk += int( d_est_bpsk != d )\n",
    "        num_errors_fading += int( d_est_flat != d )\n",
    "        num_errors_inverted += int( d_est_inv != d )\n",
    "\n",
    "        # increase counter\n",
    "        num_syms += 1\n",
    "\n",
    "\n",
    "    # ber by relative amount of errors\n",
    "    ber_bpsk[ ind_snr ] = num_errors_bpsk / num_syms\n",
    "    ber_fading[ ind_snr ] = num_errors_fading / ( num_syms * 1.0 )   \n",
    "    ber_inverted[ ind_snr ] = num_errors_inverted / ( num_syms * 1.0 )\n",
    "    \n",
    "    # show progress\n",
    "    print('Eb/N0 planned (dB) = {:2.1f}\\n'.format( 10*np.log10(val_snr) ) )"
   ]
  },
  {
   "cell_type": "markdown",
   "metadata": {},
   "source": [
    "# Plotting"
   ]
  },
  {
   "cell_type": "code",
   "execution_count": 17,
   "metadata": {},
   "outputs": [
    {
     "data": {
      "image/png": "[encoded data removed]",
      "text/plain": [
       "<Figure size 792x432 with 1 Axes>"
      ]
     },
     "metadata": {
      "needs_background": "light"
     },
     "output_type": "display_data"
    }
   ],
   "source": [
    "# plot bpsk results using identical colors for theory and simulation\n",
    "ax_sim = plt.plot( EbN0_db_range, ber_bpsk, marker = 'o', mew=4, ms=12, markeredgecolor = 'none', linestyle='None', label='AWGN, sim.' )            \n",
    "color_sim = ax_sim[0].get_color()     \n",
    "plt.plot(EbN0_db_range, ber_bpsk_theo, linewidth = 2.0, color = color_sim, label='AWGN, theo.')  \n",
    "\n",
    "\n",
    "# plot slow flat results using identical colors for theory and simulation\n",
    "ax_sim = plt.plot( EbN0_db_range, ber_fading , marker = 'D', mew=4, ms=12, markeredgecolor = 'none', linestyle='None', label = 'Fading, sim.' )\n",
    "color_sim = ax_sim[0].get_color()     \n",
    "plt.plot(EbN0_db_range, ber_fading_theo, linewidth = 2.0, color = color_sim, label='Fading, theo.')  \n",
    "\n",
    "\n",
    "# plot ber when using channel inversion\n",
    "#ax_sim = plt.plot( EbN0_db_range, ber_inverted , marker = 'v', mew=4, ms=12, markeredgecolor = 'none', linestyle='None', label = 'Fading, inv., sim.' )\n",
    "\n",
    "plt.yscale('log')\n",
    "plt.grid(True)\n",
    "plt.legend(loc='lower left',fontsize=18) \n",
    "\n",
    "plt.ylim( (1e-7, 1) )\n",
    "\n",
    "plt.xlabel('$E_{\\mathsf{b}}/N_0$ (dB)')\n",
    "plt.ylabel('BER')\n",
    "#plt.savefig('ber_flat_fading_no_inverting.pdf',bbox_inches='tight')\n"
   ]
  },
  {
   "cell_type": "code",
   "execution_count": null,
   "metadata": {},
   "outputs": [],
   "source": []
  }
 ],
 "metadata": {
  "kernelspec": {
   "display_name": "Python 3",
   "language": "python",
   "name": "python3"
  },
  "language_info": {
   "codemirror_mode": {
    "name": "ipython",
    "version": 3
   },
   "file_extension": ".py",
   "mimetype": "text/x-python",
   "name": "python",
   "nbconvert_exporter": "python",
   "pygments_lexer": "ipython3",
   "version": "3.7.3"
  }
 },
 "nbformat": 4,
 "nbformat_minor": 2
}
